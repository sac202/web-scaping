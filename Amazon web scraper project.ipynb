{
 "cells": [
  {
   "cell_type": "code",
   "execution_count": 10,
   "id": "de2ad37a-f752-4ce7-a238-a8f698ed28da",
   "metadata": {},
   "outputs": [],
   "source": [
    "from bs4 import BeautifulSoup\n",
    "import requests\n",
    "import time\n",
    "import datetime\n",
    "\n",
    "import smtplib"
   ]
  },
  {
   "cell_type": "code",
   "execution_count": 13,
   "id": "9ef61a7d-64da-46c2-8e9d-5c8ec3a16a2c",
   "metadata": {},
   "outputs": [],
   "source": [
    "URL = \"https://www.amazon.in/Jordan-Nike-Men-Sneaker-Green/dp/B0DJ9TZBTZ/ref=sr_1_5?crid=14UJM17MV81YY&dib=eyJ2IjoiMSJ9.u1BymMLCHc2PaSK7ErBQd8wIlQMIqY4PEDp8ymFwzgLtvKwoMp2VL-ZxniUJjo9qk0fb3Q9D6j7ZAYLXKjmHhul7XAZvJgJrFcuA9yYF6Le4BC10EsRELYo7kEpHqf3pV8IVc6ecdjWrrOpTYQEFkQ4ynAQYtQEgU-0eODZ7f_3irqnp-U3TmxACB_pvHkm6hpZAKLfBKvUARlqVgd0AGa_3coi87EePoq6C2ghM2dEiS238M-QDmau_P5lNy0mlsZsyyPT02LxTo0bHmhj53pTilCauS9reCAXRQVPBOv4.gr0DbnDLfuFAQJg-vMIVT-YjqvGfrYLbZstXRJO_J2U&dib_tag=se&keywords=nike+shoes+jordan&nsdOptOutParam=true&qid=1751290393&sprefix=nike+shoes+jordan%2Caps%2C260&sr=8-5\"\n",
    "\n",
    "headers = { \"User-Agent\": \"Mozilla/5.0 (Windows NT 10.0; Win64; x64) AppleWebKit/537.36 (KHTML, like Gecko) Chrome/138.0.0.0 Safari/537.36 Edg/138.0.0.0\", \n",
    "    \"X-Amzn-Trace-Id\": \"Root=1-68629361-68dea812158f85e8145c5192\"}\n",
    "\n",
    "\n"
   ]
  },
  {
   "cell_type": "code",
   "execution_count": 14,
   "id": "f55cc9de-35af-4745-be21-4247070926a5",
   "metadata": {},
   "outputs": [
    {
     "name": "stdout",
     "output_type": "stream",
     "text": [
      "Jordan Nike Men AIR Sneaker 1 Low, Green, 8 UK\n",
      "8,995\n"
     ]
    }
   ],
   "source": [
    "page = requests.get(URL, headers=headers)\n",
    "soup = BeautifulSoup(page.content, \"html.parser\")\n",
    "\n",
    "title_tag = soup.find(id=\"productTitle\")\n",
    "title = title_tag.get_text().strip() if title_tag else \"Title not found\"\n",
    "\n",
    "price_tag = (\n",
    "    soup.find(id=\"priceblock_ourprice\")\n",
    "    or soup.find(id=\"priceblock_dealprice\")\n",
    "    or soup.find(\"span\", class_=\"a-price-whole\")  # fallback option\n",
    ")\n",
    "price = price_tag.get_text().strip() if price_tag else \"Price not found\"\n",
    "\n",
    "print(title)\n",
    "print(price)"
   ]
  },
  {
   "cell_type": "code",
   "execution_count": 15,
   "id": "136be1c9-58c0-4eb0-9345-9aa3b2ff8615",
   "metadata": {},
   "outputs": [
    {
     "name": "stdout",
     "output_type": "stream",
     "text": [
      "Jordan Nike Men AIR Sneaker 1 Low, Green, 8 UK\n",
      ",995\n"
     ]
    }
   ],
   "source": [
    "price = price.strip()[1:]\n",
    "title = title.strip()\n",
    "\n",
    "print(title)\n",
    "print(price)"
   ]
  },
  {
   "cell_type": "code",
   "execution_count": 26,
   "id": "8318fbb8-d5ac-488c-af61-f2ed9bcf7e1a",
   "metadata": {},
   "outputs": [
    {
     "name": "stdout",
     "output_type": "stream",
     "text": [
      "Data written successfully!\n"
     ]
    }
   ],
   "source": [
    "import csv\n",
    "import datetime\n",
    "\n",
    "title = \"Nike Jordan Men's Sneaker\"\n",
    "price = \"₹6,499\"\n",
    "\n",
    "today = datetime.date.today()\n",
    "\n",
    "header = ['Title', 'Price', 'Date']\n",
    "data = [title, price, today]\n",
    "\n",
    "with open('amazon_product.csv', 'w', newline='', encoding='utf-8') as f:\n",
    "    writer = csv.writer(f)\n",
    "    writer.writerow(header)\n",
    "    writer.writerow(data)\n",
    "\n",
    "print(\"Data written successfully!\")"
   ]
  },
  {
   "cell_type": "code",
   "execution_count": 29,
   "id": "45dfe5c5-9381-4e0e-96af-aa8bb0d2c2de",
   "metadata": {},
   "outputs": [
    {
     "name": "stdout",
     "output_type": "stream",
     "text": [
      "                       Title   Price        Date\n",
      "0  Nike Jordan Men's Sneaker  ₹6,499  2025-06-30\n"
     ]
    }
   ],
   "source": [
    "import pandas as pd \n",
    "df = pd.read_csv(r\"C:\\Users\\DELL\\amazon_product.csv\")\n",
    "print (df)"
   ]
  },
  {
   "cell_type": "code",
   "execution_count": 31,
   "id": "0e7a189e-9a5d-4517-b7c1-06509d1127f4",
   "metadata": {},
   "outputs": [],
   "source": [
    "with open('amazon_product.csv', 'a+', newline='', encoding='utf-8') as f:\n",
    "    writer = csv.writer (f)\n",
    "    writer.writerow(data)"
   ]
  },
  {
   "cell_type": "code",
   "execution_count": 42,
   "id": "40466f83-98ea-43c7-8934-21efeca5bff6",
   "metadata": {},
   "outputs": [
    {
     "name": "stdout",
     "output_type": "stream",
     "text": [
      "Jordan Nike Men AIR Sneaker 1 Low, Green, 8 UK\n",
      "8,995\n",
      "Data saved to CSV.\n"
     ]
    }
   ],
   "source": [
    "def check_price():\n",
    "    url = 'https://www.amazon.in/Jordan-Nike-Men-Sneaker-Green/dp/B0DJ9TZBTZ/'\n",
    "\n",
    "    headers = {\n",
    "        \"User-Agent\": \"Mozilla/5.0 (Windows NT 10.0; Win64; x64) AppleWebKit/537.36 (KHTML, like Gecko) Chrome/138.0.0.0 Safari/537.36 Edg/138.0.0.0\",\n",
    "        \"X-Amzn-Trace-Id\": \"Root=1-68629361-68dea812158f85e8145c5192\"\n",
    "    }\n",
    "\n",
    "    page = requests.get(url, headers=headers)\n",
    "    soup = BeautifulSoup(page.content, \"html.parser\")\n",
    "\n",
    "    title_tag = soup.find(id=\"productTitle\")\n",
    "    price_tag = (\n",
    "        soup.find(id=\"priceblock_ourprice\") or\n",
    "        soup.find(id=\"priceblock_dealprice\") or\n",
    "        soup.find(\"span\", class_=\"a-price-whole\")\n",
    "    )\n",
    "\n",
    "    title = title_tag.get_text().strip() if title_tag else \"Title not found\"\n",
    "    price = price_tag.get_text().strip() if price_tag else \"Price not found\"\n",
    "\n",
    "    today = datetime.date.today()\n",
    "\n",
    "    with open('amazon_product.csv', 'a', newline='', encoding='utf-8') as f:\n",
    "        writer = csv.writer(f)\n",
    "        writer.writerow([title, price, today])\n",
    "\n",
    "    print(title)\n",
    "    print(price)\n",
    "    print(\"Data saved to CSV.\")\n",
    "\n",
    "check_price()"
   ]
  },
  {
   "cell_type": "code",
   "execution_count": 44,
   "id": "4a44d5dc-d341-41fb-b6d1-7bff0de30bf7",
   "metadata": {},
   "outputs": [],
   "source": [
    "import datetime\n",
    "today = datetime.date.today()"
   ]
  },
  {
   "cell_type": "code",
   "execution_count": 48,
   "id": "5ee21866-c37e-4790-a364-ac4b66b8267f",
   "metadata": {},
   "outputs": [],
   "source": [
    "import csv\n",
    "header = ['Title', 'Price', 'Date']\n",
    "data = [title, price, today]"
   ]
  },
  {
   "cell_type": "code",
   "execution_count": 49,
   "id": "7dcf80fb-3a37-4209-80dc-fb45eed3dda1",
   "metadata": {},
   "outputs": [],
   "source": [
    "with open('amazon_product.csv', 'a+', newline='', encoding='utf-8') as f:\n",
    "    writer = csv.writer (f)\n",
    "    writer.writerow(data)"
   ]
  },
  {
   "cell_type": "code",
   "execution_count": null,
   "id": "a898acca-ab6f-4b2f-a115-6ffbe3b4c0b5",
   "metadata": {},
   "outputs": [],
   "source": [
    "while(True):\n",
    "    check_price()\n",
    "    time.sleep(86400)"
   ]
  },
  {
   "cell_type": "code",
   "execution_count": null,
   "id": "583afebe-cf9b-4c26-9b5e-aeec3019609c",
   "metadata": {},
   "outputs": [],
   "source": [
    "import pandas as pd\n",
    "df = pd.read_csv(r\"C:\\Users\\DELL\\amazon_product.csv\")\n",
    "print(df)"
   ]
  },
  {
   "cell_type": "code",
   "execution_count": null,
   "id": "839b7a99-fabe-4a02-9707-1040f9f48ef8",
   "metadata": {},
   "outputs": [],
   "source": [
    "def send_email(subject, body):\n",
    "    sender = \"sachinkrishna446@gmail.com\"\n",
    "    receiver = \"sachinkrishnaku8@gmail.com\"\n",
    "    app_password = \"your_16_digit_app_password\"\n",
    "\n",
    "    message = f\"\"\"Subject: {subject}\\n\\n{body}\"\"\"\n",
    "\n",
    "    try:\n",
    "        server = smtplib.SMTP(\"smtp.gmail.com\", 587)\n",
    "        server.starttls()\n",
    "        server.login(sender, app_password)\n",
    "        server.sendmail(sender, receiver, message)\n",
    "        server.quit()\n",
    "        print(\"Email sent successfully.\")\n",
    "    except Exception as e:\n",
    "        print(\" Failed to send email:\", e)\n",
    "\n",
    "\n",
    "send_email(\n",
    "    subject=\"Amazon Price Drop Alert!\",\n",
    "    body=\"Hey, the price dropped! Check the link: https://www.amazon.in/dp/B0DJ9TZBTZ/\"\n",
    ")"
   ]
  },
  {
   "cell_type": "code",
   "execution_count": null,
   "id": "38a540c6-c84d-4d42-82e1-08dd671083bc",
   "metadata": {},
   "outputs": [],
   "source": []
  },
  {
   "cell_type": "code",
   "execution_count": null,
   "id": "cccf9059-dd66-4c70-849b-a1dcfae41905",
   "metadata": {},
   "outputs": [],
   "source": []
  },
  {
   "cell_type": "code",
   "execution_count": null,
   "id": "da32f474-0935-4593-aa7c-d970e7d56fa9",
   "metadata": {},
   "outputs": [],
   "source": []
  },
  {
   "cell_type": "code",
   "execution_count": null,
   "id": "39eec548-11e2-4fca-a2a0-b3351a365d7e",
   "metadata": {},
   "outputs": [],
   "source": []
  },
  {
   "cell_type": "code",
   "execution_count": null,
   "id": "3d363cf0-3e20-4b0d-8e61-90ab0d727dcd",
   "metadata": {},
   "outputs": [],
   "source": []
  },
  {
   "cell_type": "code",
   "execution_count": null,
   "id": "b2c26c01-166f-4b33-83d7-09046e1a3a4d",
   "metadata": {},
   "outputs": [],
   "source": []
  },
  {
   "cell_type": "code",
   "execution_count": null,
   "id": "b73cb898-d308-41ce-a94a-00b1af2e20ac",
   "metadata": {},
   "outputs": [],
   "source": []
  },
  {
   "cell_type": "code",
   "execution_count": null,
   "id": "9f515d78-176f-41ed-b13d-2a110978e29a",
   "metadata": {},
   "outputs": [],
   "source": []
  }
 ],
 "metadata": {
  "kernelspec": {
   "display_name": "Python 3 (ipykernel)",
   "language": "python",
   "name": "python3"
  },
  "language_info": {
   "codemirror_mode": {
    "name": "ipython",
    "version": 3
   },
   "file_extension": ".py",
   "mimetype": "text/x-python",
   "name": "python",
   "nbconvert_exporter": "python",
   "pygments_lexer": "ipython3",
   "version": "3.12.7"
  }
 },
 "nbformat": 4,
 "nbformat_minor": 5
}
